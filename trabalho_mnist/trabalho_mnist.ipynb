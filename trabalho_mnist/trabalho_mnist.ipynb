{
  "nbformat": 4,
  "nbformat_minor": 0,
  "metadata": {
    "colab": {
      "provenance": []
    },
    "kernelspec": {
      "name": "python3",
      "display_name": "Python 3"
    },
    "language_info": {
      "name": "python"
    }
  },
  "cells": [
    {
      "cell_type": "code",
      "execution_count": null,
      "metadata": {
        "id": "Nr7LaLpQV_ob"
      },
      "outputs": [],
      "source": [
        "# trabalho MNIST\n",
        "# Afonso Brandão 20230403"
      ]
    },
    {
      "cell_type": "code",
      "source": [
        "# Bibliotecas (no COLAB o tensorflow já está instalado)\n",
        "import matplotlib.pyplot as plt\n",
        "from keras.models import Sequential\n",
        "from keras.layers import Dense, Dropout\n",
        "from keras.utils import np_utils\n",
        "import numpy as np\n",
        "from sklearn.metrics import confusion_matrix\n",
        "from keras.datasets import mnist"
      ],
      "metadata": {
        "id": "ph78Hw8CWG2N"
      },
      "execution_count": 1,
      "outputs": []
    },
    {
      "cell_type": "code",
      "source": [
        "# Dados e divisão de testes\n",
        "(X_treinamento, y_treinamento), (X_teste, y_teste) = mnist.load_data()\n",
        "\n",
        "# Teste de imagem baixada\n",
        "plt.imshow(X_treinamento[21], cmap = 'gray')\n",
        "plt.title(y_treinamento[21])"
      ],
      "metadata": {
        "colab": {
          "base_uri": "https://localhost:8080/",
          "height": 469
        },
        "id": "jA_PJqSFWQaP",
        "outputId": "8a1d32d5-2c32-4d17-8e4c-70b09c0d59ae"
      },
      "execution_count": 4,
      "outputs": [
        {
          "output_type": "execute_result",
          "data": {
            "text/plain": [
              "Text(0.5, 1.0, '0')"
            ]
          },
          "metadata": {},
          "execution_count": 4
        },
        {
          "output_type": "display_data",
          "data": {
            "text/plain": [
              "<Figure size 640x480 with 1 Axes>"
            ],
            "image/png": "[encoded data removed]"
          },
          "metadata": {}
        }
      ]
    },
    {
      "cell_type": "code",
      "source": [
        "# Redimensionamento para 784\n",
        "X_treinamento = X_treinamento.reshape((len(X_treinamento), np.prod(X_treinamento.shape[1:])))\n",
        "X_teste = X_teste.reshape((len(X_teste), np.prod(X_teste.shape[1:])))\n",
        "X_teste[0]"
      ],
      "metadata": {
        "colab": {
          "base_uri": "https://localhost:8080/"
        },
        "id": "wDwZIkGaWjlk",
        "outputId": "104a7e87-8010-427d-d40d-52daad42127f"
      },
      "execution_count": 5,
      "outputs": [
        {
          "output_type": "execute_result",
          "data": {
            "text/plain": [
              "array([  0,   0,   0,   0,   0,   0,   0,   0,   0,   0,   0,   0,   0,\n",
              "         0,   0,   0,   0,   0,   0,   0,   0,   0,   0,   0,   0,   0,\n",
              "         0,   0,   0,   0,   0,   0,   0,   0,   0,   0,   0,   0,   0,\n",
              "         0,   0,   0,   0,   0,   0,   0,   0,   0,   0,   0,   0,   0,\n",
              "         0,   0,   0,   0,   0,   0,   0,   0,   0,   0,   0,   0,   0,\n",
              "         0,   0,   0,   0,   0,   0,   0,   0,   0,   0,   0,   0,   0,\n",
              "         0,   0,   0,   0,   0,   0,   0,   0,   0,   0,   0,   0,   0,\n",
              "         0,   0,   0,   0,   0,   0,   0,   0,   0,   0,   0,   0,   0,\n",
              "         0,   0,   0,   0,   0,   0,   0,   0,   0,   0,   0,   0,   0,\n",
              "         0,   0,   0,   0,   0,   0,   0,   0,   0,   0,   0,   0,   0,\n",
              "         0,   0,   0,   0,   0,   0,   0,   0,   0,   0,   0,   0,   0,\n",
              "         0,   0,   0,   0,   0,   0,   0,   0,   0,   0,   0,   0,   0,\n",
              "         0,   0,   0,   0,   0,   0,   0,   0,   0,   0,   0,   0,   0,\n",
              "         0,   0,   0,   0,   0,   0,   0,   0,   0,   0,   0,   0,   0,\n",
              "         0,   0,   0,   0,   0,   0,   0,   0,   0,   0,   0,   0,   0,\n",
              "         0,   0,   0,   0,   0,   0,   0,  84, 185, 159, 151,  60,  36,\n",
              "         0,   0,   0,   0,   0,   0,   0,   0,   0,   0,   0,   0,   0,\n",
              "         0,   0,   0,   0,   0,   0,   0,   0,   0, 222, 254, 254, 254,\n",
              "       254, 241, 198, 198, 198, 198, 198, 198, 198, 198, 170,  52,   0,\n",
              "         0,   0,   0,   0,   0,   0,   0,   0,   0,   0,   0,  67, 114,\n",
              "        72, 114, 163, 227, 254, 225, 254, 254, 254, 250, 229, 254, 254,\n",
              "       140,   0,   0,   0,   0,   0,   0,   0,   0,   0,   0,   0,   0,\n",
              "         0,   0,   0,   0,   0,  17,  66,  14,  67,  67,  67,  59,  21,\n",
              "       236, 254, 106,   0,   0,   0,   0,   0,   0,   0,   0,   0,   0,\n",
              "         0,   0,   0,   0,   0,   0,   0,   0,   0,   0,   0,   0,   0,\n",
              "         0,  83, 253, 209,  18,   0,   0,   0,   0,   0,   0,   0,   0,\n",
              "         0,   0,   0,   0,   0,   0,   0,   0,   0,   0,   0,   0,   0,\n",
              "         0,   0,  22, 233, 255,  83,   0,   0,   0,   0,   0,   0,   0,\n",
              "         0,   0,   0,   0,   0,   0,   0,   0,   0,   0,   0,   0,   0,\n",
              "         0,   0,   0,   0, 129, 254, 238,  44,   0,   0,   0,   0,   0,\n",
              "         0,   0,   0,   0,   0,   0,   0,   0,   0,   0,   0,   0,   0,\n",
              "         0,   0,   0,   0,   0,  59, 249, 254,  62,   0,   0,   0,   0,\n",
              "         0,   0,   0,   0,   0,   0,   0,   0,   0,   0,   0,   0,   0,\n",
              "         0,   0,   0,   0,   0,   0,   0, 133, 254, 187,   5,   0,   0,\n",
              "         0,   0,   0,   0,   0,   0,   0,   0,   0,   0,   0,   0,   0,\n",
              "         0,   0,   0,   0,   0,   0,   0,   0,   9, 205, 248,  58,   0,\n",
              "         0,   0,   0,   0,   0,   0,   0,   0,   0,   0,   0,   0,   0,\n",
              "         0,   0,   0,   0,   0,   0,   0,   0,   0,   0, 126, 254, 182,\n",
              "         0,   0,   0,   0,   0,   0,   0,   0,   0,   0,   0,   0,   0,\n",
              "         0,   0,   0,   0,   0,   0,   0,   0,   0,   0,   0,  75, 251,\n",
              "       240,  57,   0,   0,   0,   0,   0,   0,   0,   0,   0,   0,   0,\n",
              "         0,   0,   0,   0,   0,   0,   0,   0,   0,   0,   0,   0,  19,\n",
              "       221, 254, 166,   0,   0,   0,   0,   0,   0,   0,   0,   0,   0,\n",
              "         0,   0,   0,   0,   0,   0,   0,   0,   0,   0,   0,   0,   0,\n",
              "         3, 203, 254, 219,  35,   0,   0,   0,   0,   0,   0,   0,   0,\n",
              "         0,   0,   0,   0,   0,   0,   0,   0,   0,   0,   0,   0,   0,\n",
              "         0,   0,  38, 254, 254,  77,   0,   0,   0,   0,   0,   0,   0,\n",
              "         0,   0,   0,   0,   0,   0,   0,   0,   0,   0,   0,   0,   0,\n",
              "         0,   0,   0,  31, 224, 254, 115,   1,   0,   0,   0,   0,   0,\n",
              "         0,   0,   0,   0,   0,   0,   0,   0,   0,   0,   0,   0,   0,\n",
              "         0,   0,   0,   0,   0, 133, 254, 254,  52,   0,   0,   0,   0,\n",
              "         0,   0,   0,   0,   0,   0,   0,   0,   0,   0,   0,   0,   0,\n",
              "         0,   0,   0,   0,   0,   0,  61, 242, 254, 254,  52,   0,   0,\n",
              "         0,   0,   0,   0,   0,   0,   0,   0,   0,   0,   0,   0,   0,\n",
              "         0,   0,   0,   0,   0,   0,   0,   0, 121, 254, 254, 219,  40,\n",
              "         0,   0,   0,   0,   0,   0,   0,   0,   0,   0,   0,   0,   0,\n",
              "         0,   0,   0,   0,   0,   0,   0,   0,   0,   0, 121, 254, 207,\n",
              "        18,   0,   0,   0,   0,   0,   0,   0,   0,   0,   0,   0,   0,\n",
              "         0,   0,   0,   0,   0,   0,   0,   0,   0,   0,   0,   0,   0,\n",
              "         0,   0,   0,   0,   0,   0,   0,   0,   0,   0,   0,   0,   0,\n",
              "         0,   0,   0,   0], dtype=uint8)"
            ]
          },
          "metadata": {},
          "execution_count": 5
        }
      ]
    },
    {
      "cell_type": "code",
      "source": [
        "# Transformação e normalização dos dados\n",
        "X_treinamento = X_treinamento.astype('float32')\n",
        "X_teste = X_teste.astype('float32')\n",
        "X_treinamento /= 255\n",
        "X_teste /= 255\n",
        "\n",
        "# Dummy de 10 classes\n",
        "y_treinamento = np_utils.to_categorical(y_treinamento, 10)\n",
        "y_teste = np_utils.to_categorical(y_teste, 10)\n",
        "y_teste[0]"
      ],
      "metadata": {
        "colab": {
          "base_uri": "https://localhost:8080/"
        },
        "id": "wVpRVKbGWtBp",
        "outputId": "69ea963c-44fb-40f9-d0f9-fabed3c8faa6"
      },
      "execution_count": 8,
      "outputs": [
        {
          "output_type": "execute_result",
          "data": {
            "text/plain": [
              "array([0., 0., 0., 0., 0., 0., 0., 1., 0., 0.], dtype=float32)"
            ]
          },
          "metadata": {},
          "execution_count": 8
        }
      ]
    },
    {
      "cell_type": "code",
      "source": [
        "# Estrutura da rede neural: 784 - 64 - 64 - 64 - 10\n",
        "# Dropout é utilizado para zerar uma porcentagem dos neurônios, para evitar o overfitting\n",
        "modelo = Sequential()\n",
        "modelo.add(Dense(units = 64, activation = 'relu', input_dim = 784))\n",
        "modelo.add(Dropout(0.2))\n",
        "modelo.add(Dense(units = 64, activation = 'relu'))\n",
        "modelo.add(Dropout(0.2))\n",
        "modelo.add(Dense(units = 64, activation = 'relu'))\n",
        "modelo.add(Dropout(0.2))\n",
        "#camada de saida, softmax probabilidade\n",
        "modelo.add(Dense(units = 10, activation = 'softmax'))\n",
        "\n",
        "# Visualização da estrutura da rede neural\n",
        "modelo.summary()"
      ],
      "metadata": {
        "colab": {
          "base_uri": "https://localhost:8080/"
        },
        "id": "pHvRLyfLW8ih",
        "outputId": "0ee3446a-3e4c-4816-822a-655f3c8677e2"
      },
      "execution_count": 10,
      "outputs": [
        {
          "output_type": "stream",
          "name": "stdout",
          "text": [
            "Model: \"sequential_1\"\n",
            "_________________________________________________________________\n",
            " Layer (type)                Output Shape              Param #   \n",
            "=================================================================\n",
            " dense_4 (Dense)             (None, 64)                50240     \n",
            "                                                                 \n",
            " dropout_3 (Dropout)         (None, 64)                0         \n",
            "                                                                 \n",
            " dense_5 (Dense)             (None, 64)                4160      \n",
            "                                                                 \n",
            " dropout_4 (Dropout)         (None, 64)                0         \n",
            "                                                                 \n",
            " dense_6 (Dense)             (None, 64)                4160      \n",
            "                                                                 \n",
            " dropout_5 (Dropout)         (None, 64)                0         \n",
            "                                                                 \n",
            " dense_7 (Dense)             (None, 10)                650       \n",
            "                                                                 \n",
            "=================================================================\n",
            "Total params: 59,210\n",
            "Trainable params: 59,210\n",
            "Non-trainable params: 0\n",
            "_________________________________________________________________\n"
          ]
        }
      ]
    },
    {
      "cell_type": "code",
      "source": [
        "# Configuração dos parâmetros da rede neural e treinamento (utilizando base de dados de validação)\n",
        "# Na variável historico temos os histórico das execuções (erro e accuracy)\n",
        "modelo.compile(optimizer = 'adam', loss = 'categorical_crossentropy',\n",
        "               metrics = ['accuracy'])\n",
        "historico = modelo.fit(X_treinamento, y_treinamento, epochs = 20,\n",
        "                       validation_data = (X_teste, y_teste))"
      ],
      "metadata": {
        "colab": {
          "base_uri": "https://localhost:8080/"
        },
        "id": "UTb_42U_XC6k",
        "outputId": "70d41c86-ac99-4536-9d0e-360504763da9"
      },
      "execution_count": 11,
      "outputs": [
        {
          "output_type": "stream",
          "name": "stdout",
          "text": [
            "Epoch 1/20\n",
            "1875/1875 [==============================] - 10s 3ms/step - loss: 1.0293 - accuracy: 0.6378 - val_loss: 0.5331 - val_accuracy: 0.8422\n",
            "Epoch 2/20\n",
            "1875/1875 [==============================] - 10s 5ms/step - loss: 0.5449 - accuracy: 0.8373 - val_loss: 0.3562 - val_accuracy: 0.8968\n",
            "Epoch 3/20\n",
            "1875/1875 [==============================] - 7s 4ms/step - loss: 0.4316 - accuracy: 0.8752 - val_loss: 0.3047 - val_accuracy: 0.9110\n",
            "Epoch 4/20\n",
            "1875/1875 [==============================] - 6s 3ms/step - loss: 0.3672 - accuracy: 0.8934 - val_loss: 0.2448 - val_accuracy: 0.9276\n",
            "Epoch 5/20\n",
            "1875/1875 [==============================] - 7s 4ms/step - loss: 0.3322 - accuracy: 0.9043 - val_loss: 0.2219 - val_accuracy: 0.9333\n",
            "Epoch 6/20\n",
            "1875/1875 [==============================] - 7s 4ms/step - loss: 0.3038 - accuracy: 0.9114 - val_loss: 0.2065 - val_accuracy: 0.9369\n",
            "Epoch 7/20\n",
            "1875/1875 [==============================] - 7s 4ms/step - loss: 0.2822 - accuracy: 0.9185 - val_loss: 0.1949 - val_accuracy: 0.9433\n",
            "Epoch 8/20\n",
            "1875/1875 [==============================] - 9s 5ms/step - loss: 0.2686 - accuracy: 0.9226 - val_loss: 0.1789 - val_accuracy: 0.9475\n",
            "Epoch 9/20\n",
            "1875/1875 [==============================] - 10s 5ms/step - loss: 0.2547 - accuracy: 0.9270 - val_loss: 0.1689 - val_accuracy: 0.9511\n",
            "Epoch 10/20\n",
            "1875/1875 [==============================] - 10s 6ms/step - loss: 0.2476 - accuracy: 0.9289 - val_loss: 0.1611 - val_accuracy: 0.9531\n",
            "Epoch 11/20\n",
            "1875/1875 [==============================] - 6s 3ms/step - loss: 0.2370 - accuracy: 0.9316 - val_loss: 0.1599 - val_accuracy: 0.9520\n",
            "Epoch 12/20\n",
            "1875/1875 [==============================] - 7s 4ms/step - loss: 0.2310 - accuracy: 0.9343 - val_loss: 0.1576 - val_accuracy: 0.9523\n",
            "Epoch 13/20\n",
            "1875/1875 [==============================] - 8s 4ms/step - loss: 0.2219 - accuracy: 0.9346 - val_loss: 0.1490 - val_accuracy: 0.9583\n",
            "Epoch 14/20\n",
            "1875/1875 [==============================] - 7s 4ms/step - loss: 0.2178 - accuracy: 0.9367 - val_loss: 0.1459 - val_accuracy: 0.9561\n",
            "Epoch 15/20\n",
            "1875/1875 [==============================] - 7s 4ms/step - loss: 0.2114 - accuracy: 0.9366 - val_loss: 0.1441 - val_accuracy: 0.9581\n",
            "Epoch 16/20\n",
            "1875/1875 [==============================] - 6s 3ms/step - loss: 0.2061 - accuracy: 0.9396 - val_loss: 0.1499 - val_accuracy: 0.9558\n",
            "Epoch 17/20\n",
            "1875/1875 [==============================] - 7s 4ms/step - loss: 0.2028 - accuracy: 0.9406 - val_loss: 0.1431 - val_accuracy: 0.9577\n",
            "Epoch 18/20\n",
            "1875/1875 [==============================] - 6s 3ms/step - loss: 0.1995 - accuracy: 0.9413 - val_loss: 0.1409 - val_accuracy: 0.9581\n",
            "Epoch 19/20\n",
            "1875/1875 [==============================] - 7s 4ms/step - loss: 0.1968 - accuracy: 0.9426 - val_loss: 0.1366 - val_accuracy: 0.9599\n",
            "Epoch 20/20\n",
            "1875/1875 [==============================] - 6s 3ms/step - loss: 0.1930 - accuracy: 0.9423 - val_loss: 0.1381 - val_accuracy: 0.9583\n"
          ]
        }
      ]
    },
    {
      "cell_type": "code",
      "source": [
        "# Gráfico para visualizar os erros e accuracy\n",
        "historico.history.keys()\n",
        "#evolução do erro, azul\n",
        "plt.plot(historico.history['val_loss'])\n",
        "#performance da rede\n",
        "plt.plot(historico.history['val_accuracy'])\n",
        "\n",
        "# Obtenção das previsões \n",
        "previsoes = modelo.predict(X_teste)\n",
        "previsoes"
      ],
      "metadata": {
        "colab": {
          "base_uri": "https://localhost:8080/",
          "height": 678
        },
        "id": "rhgF77d8XG1h",
        "outputId": "41e6d833-2e51-4d8e-f649-c26d10e4fa57"
      },
      "execution_count": 12,
      "outputs": [
        {
          "output_type": "stream",
          "name": "stdout",
          "text": [
            "313/313 [==============================] - 1s 2ms/step\n"
          ]
        },
        {
          "output_type": "execute_result",
          "data": {
            "text/plain": [
              "array([[9.32211253e-11, 6.91008563e-06, 2.67957017e-04, ...,\n",
              "        9.99656439e-01, 2.13234046e-07, 1.00167608e-05],\n",
              "       [3.20645199e-08, 5.58556167e-05, 9.98079538e-01, ...,\n",
              "        1.34815593e-06, 4.84463053e-05, 6.76697726e-11],\n",
              "       [3.21078060e-11, 9.99146402e-01, 1.13676295e-04, ...,\n",
              "        2.52507773e-04, 3.58103833e-04, 3.10652081e-06],\n",
              "       ...,\n",
              "       [9.11938969e-06, 2.16330527e-08, 1.91688850e-05, ...,\n",
              "        6.78494780e-06, 4.77411922e-05, 8.24070256e-03],\n",
              "       [2.11955120e-09, 2.17537803e-07, 1.41563247e-10, ...,\n",
              "        8.30261554e-12, 2.49193778e-04, 7.34054629e-06],\n",
              "       [2.74890795e-08, 1.05314764e-10, 2.18082891e-06, ...,\n",
              "        2.27077146e-12, 1.21121220e-08, 5.87642573e-11]], dtype=float32)"
            ]
          },
          "metadata": {},
          "execution_count": 12
        },
        {
          "output_type": "display_data",
          "data": {
            "text/plain": [
              "<Figure size 640x480 with 1 Axes>"
            ],
            "image/png": "[encoded data removed]"
          },
          "metadata": {}
        }
      ]
    },
    {
      "cell_type": "code",
      "source": [
        "# Matriz confusão\n",
        "y_teste_matriz = [np.argmax(t) for t in y_teste]\n",
        "y_previsoes_matriz = [np.argmax(t) for t in previsoes]\n",
        "confusao = confusion_matrix(y_teste_matriz, y_previsoes_matriz)\n",
        "confusao\n",
        "\n",
        "# Previsão com um novo registro, convertendo o array para o formato de matriz\n",
        "#número 4\n",
        "y_treinamento[20]\n",
        "\n",
        "#passo a mesma posição para o modelo prever\n",
        "novo = X_treinamento[20]\n",
        "#de matriz para vetor\n",
        "novo = np.expand_dims(novo, axis = 0)\n",
        "#previsao\n",
        "pred = modelo.predict(novo)\n",
        "#maior valor\n",
        "pred = [np.argmax(pred) for t in pred]\n",
        "pred"
      ],
      "metadata": {
        "colab": {
          "base_uri": "https://localhost:8080/"
        },
        "id": "WUCy12oBXR5j",
        "outputId": "3a160f34-c3f0-4928-efe6-c679d270f169"
      },
      "execution_count": 13,
      "outputs": [
        {
          "output_type": "stream",
          "name": "stdout",
          "text": [
            "1/1 [==============================] - 0s 23ms/step\n"
          ]
        },
        {
          "output_type": "execute_result",
          "data": {
            "text/plain": [
              "[4]"
            ]
          },
          "metadata": {},
          "execution_count": 13
        }
      ]
    }
  ]
}