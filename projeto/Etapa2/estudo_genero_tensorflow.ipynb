{
 "cells": [
  {
   "cell_type": "code",
   "execution_count": 1,
   "metadata": {},
   "outputs": [
    {
     "name": "stderr",
     "output_type": "stream",
     "text": [
      "2023-04-16 03:59:39.433450: I tensorflow/tsl/cuda/cudart_stub.cc:28] Could not find cuda drivers on your machine, GPU will not be used.\n",
      "2023-04-16 03:59:40.325074: I tensorflow/tsl/cuda/cudart_stub.cc:28] Could not find cuda drivers on your machine, GPU will not be used.\n",
      "2023-04-16 03:59:40.326845: I tensorflow/core/platform/cpu_feature_guard.cc:182] This TensorFlow binary is optimized to use available CPU instructions in performance-critical operations.\n",
      "To enable the following instructions: AVX2 FMA, in other operations, rebuild TensorFlow with the appropriate compiler flags.\n",
      "2023-04-16 03:59:42.003133: W tensorflow/compiler/tf2tensorrt/utils/py_utils.cc:38] TF-TRT Warning: Could not find TensorRT\n"
     ]
    }
   ],
   "source": [
    "import pandas as pd\n",
    "import numpy as np\n",
    "from sklearn.model_selection import train_test_split\n",
    "from keras.models import Sequential\n",
    "from keras.layers import Dense, Dropout\n",
    "from keras.optimizers import Adam\n",
    "from keras.callbacks import EarlyStopping\n",
    "from sklearn.feature_extraction.text import CountVectorizer\n",
    "from sklearn.preprocessing import StandardScaler\n",
    "from unidecode import unidecode\n"
   ]
  },
  {
   "cell_type": "code",
   "execution_count": 2,
   "metadata": {},
   "outputs": [],
   "source": [
    "# Carregue os dados do CSV em um DataFrame do Pandas:\n",
    "df = pd.read_csv('./dados.csv', delimiter=';')\n",
    "\n",
    "# Fazer amostragem aleatória de 20.000 linhas e remover linhas com valores ausentes:\n",
    "df = df.sample(n=35000).dropna()\n",
    "\n",
    "# Divida os dados em recursos e rótulos:\n",
    "X = df['Name']\n",
    "y = df['Gender']\n",
    "\n",
    "# Remova acentos e caracteres problemáticos:\n",
    "\n",
    "def remove_accents(text):\n",
    "    return unidecode(text)"
   ]
  },
  {
   "cell_type": "code",
   "execution_count": 3,
   "metadata": {},
   "outputs": [
    {
     "name": "stderr",
     "output_type": "stream",
     "text": [
      "2023-04-16 04:00:13.389935: I tensorflow/compiler/xla/stream_executor/cuda/cuda_gpu_executor.cc:982] could not open file to read NUMA node: /sys/bus/pci/devices/0000:03:00.0/numa_node\n",
      "Your kernel may have been built without NUMA support.\n",
      "2023-04-16 04:00:13.391589: W tensorflow/core/common_runtime/gpu/gpu_device.cc:1956] Cannot dlopen some GPU libraries. Please make sure the missing libraries mentioned above are installed properly if you would like to use GPU. Follow the guide at https://www.tensorflow.org/install/gpu for how to download and setup the required libraries for your platform.\n",
      "Skipping registering GPU devices...\n",
      "/home/afonsolelis/.local/lib/python3.10/site-packages/keras/optimizers/legacy/adam.py:117: UserWarning: The `lr` argument is deprecated, use `learning_rate` instead.\n",
      "  super().__init__(name, **kwargs)\n"
     ]
    }
   ],
   "source": [
    "# Transforme os dados de texto em vetores numéricos usando o CountVectorizer do Scikit-learn:\n",
    "vectorizer = CountVectorizer(preprocessor=remove_accents)\n",
    "X = vectorizer.fit_transform(X)\n",
    "\n",
    "# Divida os dados em conjuntos de treinamento e teste:\n",
    "X_train, X_test, y_train, y_test = train_test_split(X, y, test_size=0.2)\n",
    "\n",
    "# Padronize os recursos usando o StandardScaler do Scikit-learn:\n",
    "scaler = StandardScaler()\n",
    "X_train = scaler.fit_transform(X_train.toarray())\n",
    "X_test = scaler.transform(X_test.toarray())\n",
    "\n",
    "# Crie um modelo sequencial com o Keras:\n",
    "model = Sequential()\n",
    "model.add(Dense(64, input_dim=X_train.shape[1], activation='relu'))\n",
    "model.add(Dropout(0.5))\n",
    "model.add(Dense(1, activation='sigmoid'))\n",
    "\n",
    "# Compile o modelo com a função de perda, otimizador e métricas:\n",
    "optimizer = Adam(lr=0.001)\n",
    "model.compile(loss='binary_crossentropy',\n",
    "              optimizer=optimizer, metrics=['accuracy'])"
   ]
  },
  {
   "cell_type": "code",
   "execution_count": 4,
   "metadata": {},
   "outputs": [
    {
     "name": "stdout",
     "output_type": "stream",
     "text": [
      "Epoch 1/20\n"
     ]
    },
    {
     "name": "stderr",
     "output_type": "stream",
     "text": [
      "2023-04-16 04:00:20.139495: W tensorflow/tsl/framework/cpu_allocator_impl.cc:83] Allocation of 3832428432 exceeds 10% of free system memory.\n"
     ]
    },
    {
     "name": "stdout",
     "output_type": "stream",
     "text": [
      "875/875 [==============================] - 8s 9ms/step - loss: 0.7645 - accuracy: 0.5584 - val_loss: 0.6940 - val_accuracy: 0.5988\n",
      "Epoch 2/20\n",
      "875/875 [==============================] - 7s 7ms/step - loss: 0.3718 - accuracy: 0.8308 - val_loss: 0.9255 - val_accuracy: 0.3893\n",
      "Epoch 3/20\n",
      "875/875 [==============================] - 6s 7ms/step - loss: 0.2190 - accuracy: 0.9036 - val_loss: 0.8882 - val_accuracy: 0.5822\n",
      "Epoch 4/20\n",
      "875/875 [==============================] - 6s 7ms/step - loss: 0.0837 - accuracy: 0.9609 - val_loss: 0.9963 - val_accuracy: 0.5817\n"
     ]
    }
   ],
   "source": [
    "# Treine o modelo com os dados de treinamento:\n",
    "early_stopping = EarlyStopping(monitor='val_loss', patience=3)\n",
    "history = model.fit(X_train, y_train, epochs=20, batch_size=32,\n",
    "                    validation_data=(X_test, y_test), callbacks=[early_stopping])"
   ]
  },
  {
   "cell_type": "code",
   "execution_count": 5,
   "metadata": {},
   "outputs": [
    {
     "name": "stdout",
     "output_type": "stream",
     "text": [
      "219/219 [==============================] - 1s 5ms/step - loss: 0.9963 - accuracy: 0.5817\n",
      "Acurácia: 0.5816545486450195\n"
     ]
    }
   ],
   "source": [
    "# Avalie o desempenho do modelo com os dados de teste:\n",
    "score = model.evaluate(X_test, y_test, batch_size=32)\n",
    "print(\"Acurácia:\", score[1])"
   ]
  },
  {
   "cell_type": "code",
   "execution_count": 7,
   "metadata": {},
   "outputs": [
    {
     "name": "stdout",
     "output_type": "stream",
     "text": [
      "1/1 [==============================] - 0s 21ms/step\n",
      "O gênero do nome Afonso é: [[0.]]\n"
     ]
    },
    {
     "name": "stderr",
     "output_type": "stream",
     "text": [
      "2023-04-16 04:01:11.726033: I tensorflow/core/common_runtime/executor.cc:1197] [/device:CPU:0] (DEBUG INFO) Executor start aborting (this does not indicate an error and you can ignore this message): INVALID_ARGUMENT: You must feed a value for placeholder tensor 'Placeholder/_0' with dtype variant and shape [1,3]\n",
      "\t [[{{node Placeholder/_0}}]]\n"
     ]
    }
   ],
   "source": [
    "# Classifique o nome \"Afonso\":\n",
    "name_to_classify = vectorizer.transform([\"Afonso\"])\n",
    "predicted_gender = model.predict(name_to_classify)\n",
    "predicted_gender = np.round(predicted_gender)\n",
    "print(\"O gênero do nome Afonso é:\", predicted_gender)"
   ]
  }
 ],
 "metadata": {
  "kernelspec": {
   "display_name": "Python 3",
   "language": "python",
   "name": "python3"
  },
  "language_info": {
   "codemirror_mode": {
    "name": "ipython",
    "version": 3
   },
   "file_extension": ".py",
   "mimetype": "text/x-python",
   "name": "python",
   "nbconvert_exporter": "python",
   "pygments_lexer": "ipython3",
   "version": "3.10.6"
  },
  "orig_nbformat": 4
 },
 "nbformat": 4,
 "nbformat_minor": 2
}
